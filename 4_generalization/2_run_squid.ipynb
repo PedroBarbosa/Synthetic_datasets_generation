{
 "cells": [
  {
   "cell_type": "code",
   "execution_count": null,
   "metadata": {},
   "outputs": [],
   "source": [
    "import numpy as np\n",
    "import tensorflow as tf\n",
    "import os\n",
    "import time\n",
    "import tensorflow as tf\n",
    "from dress.datasetgeneration.preprocessing.utils import tabular_file_to_genomics_df\n",
    "from dress.datasetgeneration.preprocessing.gtf_cache import preprocessing\n",
    "from dress.datasetgeneration.dataset import Dataset\n",
    "import squid\n",
    "from squid.predictor import BasePredictor, predict_in_batches\n",
    "import pandas as pd\n",
    "os.environ[\"CUDA_VISIBLE_DEVICES\"] = \"0\""
   ]
  },
  {
   "cell_type": "markdown",
   "metadata": {},
   "source": [
    "#### Auxiliary functions"
   ]
  },
  {
   "cell_type": "code",
   "execution_count": null,
   "metadata": {},
   "outputs": [],
   "source": [
    "class SpliceAIPredictor(BasePredictor):\n",
    "    \"\"\"Module for handling SpliceAI model predictions.\n",
    "\n",
    "    Parameters\n",
    "    ----------\n",
    "    pred_fun : function\n",
    "        Function for returning model predictions.\n",
    "    task_idx : list\n",
    "        Position indexes where splice sites of cassette exons are located. Must be a 2-element list. \n",
    "        First index must be the acceptor position, second index must be the donor positio .\n",
    "    batch_size : int\n",
    "        The number of predictions per batch.\n",
    "    reduce_fun : function\n",
    "        Function for reducing predictions at exon  boundaries (acceptor and donor) to scalar.\n",
    "\n",
    "    Returns\n",
    "    -------\n",
    "    torch.Tensor\n",
    "        Batch of scalar predictions corresponding to inputs.\n",
    "    \"\"\"\n",
    "\n",
    "    def __init__(self, pred_fun, task_idx, batch_size=64, reduce_fun=np.mean, save_dir=None, save_window=None, **kwargs):\n",
    "        self.pred_fun = pred_fun\n",
    "        self.task_idx = task_idx\n",
    "        self.batch_size = batch_size\n",
    "        self.reduce_fun = reduce_fun\n",
    "        BasePredictor.save_dir = save_dir\n",
    "        self.kwargs = kwargs\n",
    "\n",
    "    def __call__(self, x, x_ref, save_window):\n",
    "        pred = predict_in_batches(x, x_ref, self.pred_fun, batch_size=self.batch_size, save_window=save_window, **self.kwargs)\n",
    "        acceptor = pred[:, self.task_idx[0], 1]\n",
    "        donor = pred[:, self.task_idx[1], 2]\n",
    "        return self.reduce_fun([acceptor, donor], axis=0)\n",
    "  "
   ]
  },
  {
   "cell_type": "code",
   "execution_count": null,
   "metadata": {},
   "outputs": [],
   "source": [
    "def predict_on_batch_spliceai():\n",
    "\n",
    "    from spliceai.utils import load_model, resource_filename\n",
    "    paths = (\"models/spliceai{}.h5\".format(x) for x in range(1, 6))\n",
    "    models = [\n",
    "        load_model(resource_filename(\"spliceai\", x), compile=False) for x in paths\n",
    "    ]\n",
    " \n",
    "    @tf.function(\n",
    "        input_signature=(tf.TensorSpec(shape=[None, None, 4], dtype=tf.int32),)\n",
    "    )\n",
    "    def predict_batch(batch: tf.Tensor) -> tf.Tensor:\n",
    "        return tf.reduce_mean([model(batch) for model in models], axis=0)\n",
    "\n",
    "    return predict_batch"
   ]
  },
  {
   "cell_type": "code",
   "execution_count": null,
   "metadata": {},
   "outputs": [],
   "source": [
    "from tqdm import tqdm\n",
    "from multiprocessing import Pool\n",
    "    \n",
    "ltrdict = {tuple([1, 0, 0, 0]): \"A\",\n",
    "    tuple([0, 1, 0, 0]): \"C\",\n",
    "    tuple([0, 0, 1, 0]): \"G\",\n",
    "    tuple([0, 0, 0, 1]): \"T\",\n",
    "    tuple([0, 0, 0, 0]): \"N\"\n",
    "    }\n",
    "\n",
    "def process_sequence(sequence):\n",
    "    return ''.join([ltrdict[tuple(list(nuc.flatten()))] for nuc in np.rollaxis(sequence, 0) if np.any(nuc)])\n",
    "            \n",
    "def get_fasta(x: np.ndarray):\n",
    "\n",
    "    with Pool() as p:\n",
    "        seqs = list(tqdm(p.imap(process_sequence, np.rollaxis(x, 0)), total=x.shape[0]))\n",
    "\n",
    "    return seqs"
   ]
  },
  {
   "cell_type": "code",
   "execution_count": null,
   "metadata": {},
   "outputs": [],
   "source": [
    "def get_phenotypes(mut_seqs_fasta: list) -> list:\n",
    "    phenotypes = []\n",
    "    original_seq = mut_seqs_fasta[0]\n",
    "    for mut_seq in mut_seqs_fasta[1:]:\n",
    "        phenotypes.append('|'.join([f\"SNV[{i},{nuc2}]\" for i, (nuc1, nuc2) in enumerate(zip(original_seq, mut_seq)) if nuc1 != nuc2]))\n",
    "    return mut_seqs_fasta[1:], phenotypes"
   ]
  },
  {
   "cell_type": "code",
   "execution_count": null,
   "metadata": {},
   "outputs": [],
   "source": [
    "def get_scores(y: np.ndarray) -> list:\n",
    "    '''\n",
    "    Returns the scores for each mutated sequence \n",
    "    and the difference to the original sequence\n",
    "    '''\n",
    "    scores, deltascores = [], []\n",
    "    y_original = y[0]\n",
    "    for i in range(1, y.shape[0]):\n",
    "        scores.append(round(y[i], 2))\n",
    "        deltascores.append(round(y[i] - y_original, 2))\n",
    "\n",
    "    return scores, deltascores"
   ]
  },
  {
   "cell_type": "code",
   "execution_count": null,
   "metadata": {},
   "outputs": [],
   "source": [
    "def get_ss_idx(mut_seqs_fasta: list, original_ss_idx: list) -> list:\n",
    "    '''\n",
    "    Returns the splice site indexes of the mutated sequences.\n",
    "    Because only SNVs are generated, the splice site will be the same as the original seq\n",
    "    '''\n",
    "    flat_string = \";\".join([\";\".join(map(str, sublist)) for sublist in original_ss_idx])\n",
    "    return [flat_string] * len(mut_seqs_fasta)"
   ]
  },
  {
   "cell_type": "markdown",
   "metadata": {},
   "source": [
    "#### Load data"
   ]
  },
  {
   "cell_type": "code",
   "execution_count": null,
   "metadata": {},
   "outputs": [],
   "source": [
    "data = tabular_file_to_genomics_df(\n",
    "    \"0_RBFOX2_ES_events.tsv\",\n",
    "    is_0_based=False,\n",
    "    header=0,\n",
    ")\n",
    "seqs, ss_idx = preprocessing(\n",
    "    data,\n",
    "    cache_dir=\"../data/cache\",\n",
    "    genome=\"../data/cache/GRCh38.primary_assembly.genome.fa\",\n",
    "    outdir='RBFOX2_knockdown_squid',\n",
    "    use_full_sequence=False,\n",
    ")"
   ]
  },
  {
   "cell_type": "markdown",
   "metadata": {},
   "source": [
    "#### Generate datasets with SQUID"
   ]
  },
  {
   "cell_type": "code",
   "execution_count": null,
   "metadata": {},
   "outputs": [],
   "source": [
    "def write_output(dataset: pd.DataFrame, run_id: str, seq_id: str, seed: int, time_elapsed: float):\n",
    "    '''\n",
    "    Write DRESS compatible output files\n",
    "    '''\n",
    "    # Dataset\n",
    "    dataset_obj = Dataset(dataset)\n",
    "    metrics = dataset_obj.metrics\n",
    "    dataset.to_csv(f\"RBFOX2_knockdown_squid/{run_id}_seed_{seed}_dataset.csv.gz\", compression='gzip', index=False)\n",
    "\n",
    "    # Archive logger\n",
    "    header = [\n",
    "    \"Run_id\",\n",
    "    \"Seed\",\n",
    "    \"Seq_id\",\n",
    "    \"Generation\",\n",
    "    \"Execution_time\",\n",
    "    \"Archive_quality\",\n",
    "    \"Archive_size\",\n",
    "    \"Archive_diversity\",\n",
    "    \"Archive_avg_diversity_per_bin\",\n",
    "    \"Archive_empty_bin_ratio\",\n",
    "    \"Archive_low_count_bin_ratio\",\n",
    "    \"Archive_avg_number_diff_units\",\n",
    "    \"Archive_avg_edit_distance\",\n",
    "    ]\n",
    "\n",
    "    archive_logger = [run_id, seed, seq_id, 0, round(time_elapsed,4), round(dataset_obj.quality,4), len(dataset_obj), metrics['Diversity'], metrics['Avg_Diversity_per_bin'], metrics['Empty_bin_ratio'], metrics['Low_count_bin_ratio'], metrics['Avg_number_diff_units'], metrics['Avg_edit_distance']]\n",
    "    pd.DataFrame([archive_logger], columns=header).to_csv(f\"RBFOX2_knockdown_squid/{run_id}_seed_{seed}_archive_logger.csv.gz\", compression='gzip', index=False)"
   ]
  },
  {
   "cell_type": "code",
   "execution_count": null,
   "metadata": {},
   "outputs": [],
   "source": [
    "# Test with 1 sequence only\n",
    "seqs = {'chr1:972761-973740(+)_ENST00000379410': seqs['chr1:972761-973740(+)_ENST00000379410']}\n",
    "ss_idx = {'chr1:972761-973740(+)_ENST00000379410': ss_idx['chr1:972761-973740(+)_ENST00000379410']}"
   ]
  },
  {
   "cell_type": "code",
   "execution_count": null,
   "metadata": {},
   "outputs": [],
   "source": [
    "alphabet = ['A','C','G','T']\n",
    "predict_spliceai = predict_on_batch_spliceai()\n",
    "\n",
    "for i, (seq_id, original_seq) in enumerate(seqs.items()):\n",
    "\n",
    "    print(f\"Processing {seq_id}\")\n",
    "    run_id = seq_id.replace(':', '_').replace('(+)', '').replace('(-)', '').replace('-', '_')\n",
    "\n",
    "    _ss_idx = ss_idx[seq_id]\n",
    "    seq_len = len(original_seq)\n",
    "    x = squid.utils.seq2oh(original_seq, alphabet)\n",
    "    npad = ((5000, 5000), (0, 0))\n",
    "    x = np.pad(x, pad_width=npad)\n",
    "\n",
    "    # Cassette exon positions\n",
    "    task_idx = [_ss_idx[1][0], _ss_idx[1][1]]\n",
    "    \n",
    "    # Account for the padding\n",
    "    mut_window = [5000, 5000 + seq_len]\n",
    "\n",
    "    # Initialize the predictor\n",
    "    pred_generator = SpliceAIPredictor(\n",
    "    pred_fun=predict_spliceai, task_idx=task_idx, batch_size=64, save_dir=None\n",
    "    )\n",
    "    \n",
    "    # Set up mutagenizer class (define a mutation rate such that the mean edit distance\n",
    "    # of the generated sequences will be similar to the best GP configuration)\n",
    "    mut_generator = squid.mutagenizer.RandomMutagenesis(mut_rate=11.3/seq_len, uniform=False)\n",
    "\n",
    "    # Generate in silico MAVE\n",
    "    mave = squid.mave.InSilicoMAVE(mut_generator, pred_generator, seq_len, mut_window=mut_window)\n",
    "\n",
    "    # Generate datasets across 5 seeds\n",
    "    for seed in range(5):\n",
    "        print(f\"..Seed {seed}\")\n",
    "        start = time.time()\n",
    "\n",
    "        # Generate 5001 because original seq is the first one\n",
    "        x_mut, y_mut = mave.generate(x, num_sim=5001, seed=seed)\n",
    "        end = time.time()\n",
    "        time_elapsed = end - start\n",
    "        print(f\"..Time elapsed: {time_elapsed // 60:.2f} minutes\")\n",
    "        print(\"Getting fasta\")\n",
    "        mut_seqs_fasta = get_fasta(x_mut)\n",
    "        mut_seqs_fasta, phenotypes = get_phenotypes(mut_seqs_fasta)\n",
    "        scores, deltascores = get_scores(y_mut)\n",
    "        all_ss_idx = get_ss_idx(mut_seqs_fasta, _ss_idx)\n",
    "        \n",
    "        dataset = pd.DataFrame({\n",
    "            'Run_id': [run_id] * len(mut_seqs_fasta),\n",
    "            'Seed': [seed] * len(mut_seqs_fasta),\n",
    "            'Seq_id': [seq_id] * len(mut_seqs_fasta),\n",
    "            'Phenotype': phenotypes,\n",
    "            'Sequence': mut_seqs_fasta,\n",
    "            'Splice_site_positions': all_ss_idx,\n",
    "            'Score': scores,\n",
    "            'Delta_score': deltascores\n",
    "        })\n",
    "\n",
    "        write_output(dataset, run_id, seq_id, seed, time_elapsed)"
   ]
  }
 ],
 "metadata": {
  "kernelspec": {
   "display_name": "dress_experiments",
   "language": "python",
   "name": "python3"
  },
  "language_info": {
   "codemirror_mode": {
    "name": "ipython",
    "version": 3
   },
   "file_extension": ".py",
   "mimetype": "text/x-python",
   "name": "python",
   "nbconvert_exporter": "python",
   "pygments_lexer": "ipython3",
   "version": "3.10.12"
  }
 },
 "nbformat": 4,
 "nbformat_minor": 2
}
