{
 "cells": [
  {
   "cell_type": "markdown",
   "metadata": {},
   "source": [
    "### Perform motif scanning on the generated datasets\n",
    "\n",
    "DRESS v0.1.0 natively embeds motif disruption counts (motif gains/losses of a synthetic sequence in respect to the original), as present in Figure 7.\n",
    "Because all analysis in the paper were performed with DRESS v0.0.1, we converted the datasets into a compatible format for DRESS v0.1.0. The main difference is the inclusion of the original sequence (wt) in the first line of the final dataset. "
   ]
  },
  {
   "cell_type": "code",
   "execution_count": null,
   "metadata": {},
   "outputs": [],
   "source": [
    "import glob\n",
    "import shutil\n",
    "import pandas as pd\n",
    "from dress.datasetevaluation.representation.motifs.search import FimoSearch\n",
    "from dress.datasetgeneration.dataset import Dataset"
   ]
  },
  {
   "cell_type": "code",
   "execution_count": null,
   "metadata": {},
   "outputs": [],
   "source": [
    "def load_datasets_generalization(strategy:str, evolutions_path: str):\n",
    "\n",
    "    print(\"Reading directory: \", evolutions_path)\n",
    "    files = [f for f in glob.glob(evolutions_path + \"/*_dataset.csv.gz\")]\n",
    "    uniq_basenames = sorted(list(set([f.split('/')[-1].split('_seed')[0] for f in files])))\n",
    "\n",
    "    for bn in uniq_basenames[:1]:\n",
    "\n",
    "        dataset = Dataset(glob.glob(f\"{evolutions_path}/{bn}*_dataset.csv.gz\"))\n",
    "\n",
    "        try:\n",
    "            motif_search = FimoSearch(dataset, subset_rbps='encode', motif_search='fimo', motif_db='oRNAment', skip_location_mapping=True, outdir=f\"3_motifs/{strategy}_fimo_oRNAment/{bn}\")\n",
    "            shutil.rmtree(f\"3_motifs/{strategy}_fimo_oRNAment/{bn}/motifs/fimo\")\n",
    "            motif_search.tabulate_occurrences(write_output=True)\n",
    "        except ValueError:\n",
    "            continue\n"
   ]
  },
  {
   "cell_type": "code",
   "execution_count": null,
   "metadata": {},
   "outputs": [],
   "source": [
    "DATASETS_PATH = {\n",
    "    \"GGGP\": \"RBFOX2_knockdown\",\n",
    "    \"RS\": \"RBFOX2_knockdown_randomSearch\",\n",
    "    }"
   ]
  },
  {
   "cell_type": "code",
   "execution_count": null,
   "metadata": {},
   "outputs": [],
   "source": [
    "for strategy, directory in DATASETS_PATH.items():\n",
    "    df = load_datasets_generalization(strategy, directory)"
   ]
  }
 ],
 "metadata": {
  "kernelspec": {
   "display_name": "base",
   "language": "python",
   "name": "python3"
  },
  "language_info": {
   "codemirror_mode": {
    "name": "ipython",
    "version": 3
   },
   "file_extension": ".py",
   "mimetype": "text/x-python",
   "name": "python",
   "nbconvert_exporter": "python",
   "pygments_lexer": "ipython3",
   "version": "3.10.12"
  }
 },
 "nbformat": 4,
 "nbformat_minor": 2
}
